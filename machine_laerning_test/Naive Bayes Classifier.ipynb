{
 "cells": [
  {
   "cell_type": "code",
   "execution_count": 1,
   "id": "0309c229",
   "metadata": {},
   "outputs": [],
   "source": [
    "import numpy as np\n",
    "\n",
    "class NaiveBayesClassifier:\n",
    "    def __init__(self):\n",
    "        self.class_priors = None\n",
    "        self.cond_probs = None\n",
    "\n",
    "    def fit(self, X, y):\n",
    "        num_classes = len(np.unique(y))\n",
    "        num_features = X.shape[1]\n",
    "\n",
    "        # 클래스 사전확률\n",
    "        self.class_priors = np.zeros(num_classes)\n",
    "        for c in range(num_classes):\n",
    "            self.class_priors[c] = np.mean(y == c)\n",
    "\n",
    "        # 조건부확률\n",
    "        self.cond_probs = np.zeros((num_classes, num_features))\n",
    "        for c in range(num_classes):\n",
    "            for f in range(num_features):\n",
    "                self.cond_probs[c, f] = np.mean(X[y == c, f])\n",
    "\n",
    "    def predict(self, X):\n",
    "        num_classes = self.class_priors.shape[0]\n",
    "        num_data = X.shape[0]\n",
    "        y_pred = np.zeros(num_data)\n",
    "\n",
    "        # 사후확률\n",
    "        for i in range(num_data):\n",
    "            likelihoods = np.zeros(num_classes)\n",
    "            for c in range(num_classes):\n",
    "                likelihoods[c] = np.prod(self.cond_probs[c, X[i, :] == 1]) * \\\n",
    "                                 np.prod(1 - self.cond_probs[c, X[i, :] == 0])\n",
    "                likelihoods[c] *= self.class_priors[c]\n",
    "            #likelihoods /= np.sum(likelihoods)\n",
    "\n",
    "            y_pred[i] = np.argmax(likelihoods)\n",
    "\n",
    "        return y_pred"
   ]
  },
  {
   "cell_type": "code",
   "execution_count": 2,
   "id": "0063b9aa",
   "metadata": {},
   "outputs": [
    {
     "name": "stdout",
     "output_type": "stream",
     "text": [
      "Accuracy: 0.88\n"
     ]
    }
   ],
   "source": [
    "# 데이터 생성\n",
    "num_samples = 1000\n",
    "\n",
    "features = np.random.randint(0, 2, size=(num_samples, 10))\n",
    "\n",
    "labels = np.zeros(num_samples)\n",
    "for i in range(num_samples):\n",
    "    if np.sum(features[i][:5]) >= 3 and np.sum(features[i][5:]) <= 2:\n",
    "        labels[i] = 1\n",
    "\n",
    "split = int(0.8 * num_samples)\n",
    "X_train, y_train = features[:split], labels[:split]\n",
    "X_test, y_test = features[split:], labels[split:]\n",
    "\n",
    "# 인스턴스 생성\n",
    "clf = NaiveBayesClassifier()\n",
    "\n",
    "# 모델학습\n",
    "clf.fit(X_train, y_train)\n",
    "\n",
    "# 테스트 데이터에 모델적용\n",
    "y_pred = clf.predict(X_test)\n",
    "\n",
    "# 정확도 계산\n",
    "accuracy = sum(y_pred == y_test) / len(y_test)\n",
    "print(\"Accuracy:\", accuracy)"
   ]
  },
  {
   "cell_type": "code",
   "execution_count": 3,
   "id": "8302ce33",
   "metadata": {},
   "outputs": [
    {
     "data": {
      "text/plain": [
       "array([0.67171717, 0.7020202 , 0.66161616, 0.67171717, 0.69191919,\n",
       "       0.35353535, 0.24747475, 0.31818182, 0.33838384, 0.25757576])"
      ]
     },
     "execution_count": 3,
     "metadata": {},
     "output_type": "execute_result"
    }
   ],
   "source": [
    "# \\mu_{1i} = p(x_i=1|C_1)\n",
    "# C_1 클래스일 때 첫 5번째 원소들이 1일 확률이 크다\n",
    "# C_1 클래스일 때 뒤 5번째 원소들이 0일 확률이 크다\n",
    "clf.cond_probs[1]"
   ]
  },
  {
   "cell_type": "code",
   "execution_count": 4,
   "id": "c3dede96",
   "metadata": {},
   "outputs": [
    {
     "data": {
      "text/plain": [
       "array([0.44352159, 0.43189369, 0.43023256, 0.44019934, 0.41694352,\n",
       "       0.56312292, 0.55149502, 0.57475083, 0.57807309, 0.56478405])"
      ]
     },
     "execution_count": 4,
     "metadata": {},
     "output_type": "execute_result"
    }
   ],
   "source": [
    "# \\mu_{2i} = p(x_i=1|C_2)\n",
    "clf.cond_probs[0]"
   ]
  },
  {
   "cell_type": "code",
   "execution_count": 5,
   "id": "0889b776",
   "metadata": {},
   "outputs": [
    {
     "data": {
      "text/plain": [
       "array([0.7525, 0.2475])"
      ]
     },
     "execution_count": 5,
     "metadata": {},
     "output_type": "execute_result"
    }
   ],
   "source": [
    "# P(C_2), P(C_1)\n",
    "clf.class_priors"
   ]
  },
  {
   "cell_type": "code",
   "execution_count": null,
   "id": "d345431c",
   "metadata": {},
   "outputs": [],
   "source": []
  }
 ],
 "metadata": {
  "kernelspec": {
   "display_name": "Python 3 (ipykernel)",
   "language": "python",
   "name": "python3"
  },
  "language_info": {
   "codemirror_mode": {
    "name": "ipython",
    "version": 3
   },
   "file_extension": ".py",
   "mimetype": "text/x-python",
   "name": "python",
   "nbconvert_exporter": "python",
   "pygments_lexer": "ipython3",
   "version": "3.9.6"
  }
 },
 "nbformat": 4,
 "nbformat_minor": 5
}
