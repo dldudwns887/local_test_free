{
 "cells": [
  {
   "cell_type": "code",
   "execution_count": null,
   "metadata": {},
   "outputs": [],
   "source": [
    "#사전 작업\n",
    "%pip install Faker\n",
    "%pip install mysqlclient\n",
    "%pip install sqlalchemy"
   ]
  },
  {
   "cell_type": "code",
   "execution_count": null,
   "metadata": {},
   "outputs": [],
   "source": [
    "#dummy data 생성\n",
    "\n",
    "from faker import Faker\n",
    "import pandas as pd\n",
    "\n",
    "fake = Faker()  # locale 정보 설정\n",
    "\n",
    "def generate_user_data(n):\n",
    "    data = []\n",
    "    for _ in range(n):\n",
    "        user_info = {\n",
    "            \"name\": fake.name(),\n",
    "            \"email\": fake.unique.free_email(),\n",
    "            \"address\": fake.address(),\n",
    "            \"phone_number\": fake.phone_number()\n",
    "        }\n",
    "        data.append(user_info)\n",
    "    return data\n",
    "\n",
    "def save_to_csv(data, filename):\n",
    "    df = pd.DataFrame(data)\n",
    "    df.to_csv(filename, index=False)\n",
    "\n",
    "data_sizes = [1000, 5000, 10000, 50000, 100000, 150000]\n",
    "\n",
    "for size in data_sizes:\n",
    "    user_data = generate_user_data(size)\n",
    "    filename = f\"test_data_{size}.csv\"\n",
    "    save_to_csv(user_data, filename)\n",
    "    print(f\"Generated and saved {size} user records to {filename}\")\n",
    "\n",
    "# 마지막 200000개 데이터도 같은 방식으로 생성\n",
    "final_size = 200000\n",
    "final_user_data = generate_user_data(final_size)\n",
    "final_filename = f\"test_data_{final_size}.csv\"\n",
    "save_to_csv(final_user_data, final_filename)\n",
    "print(f\"Generated and saved {final_size} user records to {final_filename}\")\n",
    "\n"
   ]
  },
  {
   "cell_type": "code",
   "execution_count": 9,
   "metadata": {},
   "outputs": [
    {
     "name": "stdout",
     "output_type": "stream",
     "text": [
      "Requirement already satisfied: pyspark in c:\\users\\dldud\\appdata\\local\\programs\\python\\python311\\lib\\site-packages (3.5.1)\n",
      "Requirement already satisfied: py4j==0.10.9.7 in c:\\users\\dldud\\appdata\\local\\programs\\python\\python311\\lib\\site-packages (from pyspark) (0.10.9.7)\n",
      "Note: you may need to restart the kernel to use updated packages.\n"
     ]
    },
    {
     "name": "stderr",
     "output_type": "stream",
     "text": [
      "\n",
      "[notice] A new release of pip is available: 24.0 -> 24.1.1\n",
      "[notice] To update, run: python.exe -m pip install --upgrade pip\n"
     ]
    }
   ],
   "source": [
    "%pip install pyspark"
   ]
  },
  {
   "cell_type": "code",
   "execution_count": null,
   "metadata": {},
   "outputs": [],
   "source": [
    "#코어 확인용\n",
    "%pip install psutil"
   ]
  },
  {
   "cell_type": "code",
   "execution_count": 1,
   "metadata": {},
   "outputs": [
    {
     "name": "stdout",
     "output_type": "stream",
     "text": [
      "Physical cores: 12\n",
      "Total cores: 16\n",
      "Total memory: 15.69 GB\n"
     ]
    }
   ],
   "source": [
    "# memory info\n",
    "import psutil\n",
    "\n",
    "# CPU 코어 수 확인\n",
    "physical_cores = psutil.cpu_count(logical=False)\n",
    "total_cores = psutil.cpu_count(logical=True)\n",
    "\n",
    "# 메모리 용량 확인\n",
    "memory = psutil.virtual_memory()\n",
    "\n",
    "print(f\"Physical cores: {physical_cores}\")\n",
    "print(f\"Total cores: {total_cores}\")\n",
    "print(f\"Total memory: {memory.total / (1024 ** 3):.2f} GB\")\n"
   ]
  },
  {
   "cell_type": "code",
   "execution_count": null,
   "metadata": {},
   "outputs": [],
   "source": []
  },
  {
   "cell_type": "code",
   "execution_count": 5,
   "metadata": {},
   "outputs": [
    {
     "name": "stdout",
     "output_type": "stream",
     "text": [
      "Total time for test_data_1000.csv using Spark: 0.5692 seconds\n",
      "Total time for test_data_5000.csv using Spark: 0.6365 seconds\n",
      "Total time for test_data_10000.csv using Spark: 0.5966 seconds\n",
      "Total time for test_data_50000.csv using Spark: 1.1056 seconds\n",
      "Total time for test_data_100000.csv using Spark: 1.4380 seconds\n",
      "Total time for test_data_150000.csv using Spark: 1.9193 seconds\n",
      "Total time for test_data_200000.csv using Spark: 1.9985 seconds\n",
      "Total execution time using Spark: 8.3067 seconds\n",
      "Spark initialization time: 0.1598 seconds\n",
      "   Dataset Size  Time (seconds)\n",
      "0          1000        0.569217\n",
      "1          5000        0.636466\n",
      "2         10000        0.596579\n",
      "3         50000        1.105626\n",
      "4        100000        1.438022\n",
      "5        150000        1.919268\n",
      "6        200000        1.998466\n"
     ]
    }
   ],
   "source": [
    "import time\n",
    "from pyspark.sql import SparkSession\n",
    "import pandas as pd\n",
    "\n",
    "# Spark 세션 생성 시 옵션 설정\n",
    "spark_start_time = time.time()\n",
    "spark = SparkSession.builder \\\n",
    "    .appName(\"SparkVsPandas\") \\\n",
    "    .config(\"spark.executor.memory\", \"5g\") \\\n",
    "    .config(\"spark.executor.cores\", \"4\") \\\n",
    "    .config(\"spark.executor.instances\", \"3\") \\\n",
    "    .config(\"spark.driver.memory\", \"2g\") \\\n",
    "    .config(\"spark.sql.shuffle.partitions\", \"200\") \\\n",
    "    .getOrCreate()\n",
    "spark_end_time = time.time()\n",
    "spark_initialization_time = spark_end_time - spark_start_time\n",
    "\n",
    "def load_csv_spark(filename):\n",
    "    start_time = time.time()\n",
    "    df = spark.read.csv(filename, header=True, inferSchema=True)\n",
    "    end_time = time.time()\n",
    "    load_time = end_time - start_time\n",
    "    return df, load_time\n",
    "\n",
    "def unique_addresses_spark(df):\n",
    "    start_time = time.time()\n",
    "    address_groups = df.groupBy('address').count().collect()\n",
    "    end_time = time.time()\n",
    "    process_time = end_time - start_time\n",
    "    return address_groups, process_time\n",
    "\n",
    "def main_spark():\n",
    "    total_start_time = time.time()\n",
    "    time_spark = []\n",
    "\n",
    "    filenames = [\n",
    "        \"test_data_1000.csv\",\n",
    "        \"test_data_5000.csv\",\n",
    "        \"test_data_10000.csv\",\n",
    "        \"test_data_50000.csv\",\n",
    "        \"test_data_100000.csv\",\n",
    "        \"test_data_150000.csv\",\n",
    "        \"test_data_200000.csv\",\n",
    "    ]\n",
    "    \n",
    "    for filename in filenames:\n",
    "        df, load_time = load_csv_spark(filename)\n",
    "        address_groups, process_time = unique_addresses_spark(df)\n",
    "        \n",
    "        total_time = load_time + process_time\n",
    "        size = int(filename.split('_')[2].split('.')[0])\n",
    "        time_spark.append([size, total_time])\n",
    "        print(f\"Total time for {filename} using Spark: {total_time:.4f} seconds\")\n",
    "    \n",
    "    total_end_time = time.time()\n",
    "    total_exec_time = total_end_time - total_start_time\n",
    "    print(f\"Total execution time using Spark: {total_exec_time:.4f} seconds\")\n",
    "    print(f\"Spark initialization time: {spark_initialization_time:.4f} seconds\")\n",
    "    \n",
    "    df_time_spark = pd.DataFrame(time_spark, columns=['Dataset Size', 'Time (seconds)'])\n",
    "    df_time_spark.to_csv(\"time_spark.csv\", index=False)\n",
    "    print(df_time_spark)\n",
    "\n",
    "    # Spark 세션 종료\n",
    "    spark.stop()\n",
    "\n",
    "if __name__ == \"__main__\":\n",
    "    main_spark()\n"
   ]
  },
  {
   "cell_type": "code",
   "execution_count": 8,
   "metadata": {},
   "outputs": [
    {
     "ename": "KeyboardInterrupt",
     "evalue": "",
     "output_type": "error",
     "traceback": [
      "\u001b[1;31m---------------------------------------------------------------------------\u001b[0m",
      "\u001b[1;31mKeyboardInterrupt\u001b[0m                         Traceback (most recent call last)",
      "Cell \u001b[1;32mIn[8], line 55\u001b[0m\n\u001b[0;32m     52\u001b[0m     \u001b[38;5;28mprint\u001b[39m(df_time_pandas)\n\u001b[0;32m     54\u001b[0m \u001b[38;5;28;01mif\u001b[39;00m \u001b[38;5;18m__name__\u001b[39m \u001b[38;5;241m==\u001b[39m \u001b[38;5;124m\"\u001b[39m\u001b[38;5;124m__main__\u001b[39m\u001b[38;5;124m\"\u001b[39m:\n\u001b[1;32m---> 55\u001b[0m     \u001b[43mmain_pandas\u001b[49m\u001b[43m(\u001b[49m\u001b[43m)\u001b[49m\n",
      "Cell \u001b[1;32mIn[8], line 38\u001b[0m, in \u001b[0;36mmain_pandas\u001b[1;34m()\u001b[0m\n\u001b[0;32m     36\u001b[0m \u001b[38;5;28;01mfor\u001b[39;00m filename \u001b[38;5;129;01min\u001b[39;00m filenames:\n\u001b[0;32m     37\u001b[0m     df, load_time \u001b[38;5;241m=\u001b[39m load_csv_pandas(filename)\n\u001b[1;32m---> 38\u001b[0m     address_groups, process_time \u001b[38;5;241m=\u001b[39m \u001b[43munique_addresses_pandas\u001b[49m\u001b[43m(\u001b[49m\u001b[43mdf\u001b[49m\u001b[43m)\u001b[49m\n\u001b[0;32m     40\u001b[0m     total_time \u001b[38;5;241m=\u001b[39m load_time \u001b[38;5;241m+\u001b[39m process_time\n\u001b[0;32m     41\u001b[0m     size \u001b[38;5;241m=\u001b[39m \u001b[38;5;28mint\u001b[39m(filename\u001b[38;5;241m.\u001b[39msplit(\u001b[38;5;124m'\u001b[39m\u001b[38;5;124m_\u001b[39m\u001b[38;5;124m'\u001b[39m)[\u001b[38;5;241m2\u001b[39m]\u001b[38;5;241m.\u001b[39msplit(\u001b[38;5;124m'\u001b[39m\u001b[38;5;124m.\u001b[39m\u001b[38;5;124m'\u001b[39m)[\u001b[38;5;241m0\u001b[39m])\n",
      "Cell \u001b[1;32mIn[8], line 16\u001b[0m, in \u001b[0;36munique_addresses_pandas\u001b[1;34m(df)\u001b[0m\n\u001b[0;32m     14\u001b[0m start_time \u001b[38;5;241m=\u001b[39m time\u001b[38;5;241m.\u001b[39mtime()\n\u001b[0;32m     15\u001b[0m unique_addresses \u001b[38;5;241m=\u001b[39m df[\u001b[38;5;124m'\u001b[39m\u001b[38;5;124maddress\u001b[39m\u001b[38;5;124m'\u001b[39m]\u001b[38;5;241m.\u001b[39munique()\n\u001b[1;32m---> 16\u001b[0m address_groups \u001b[38;5;241m=\u001b[39m \u001b[43m{\u001b[49m\u001b[43maddress\u001b[49m\u001b[43m:\u001b[49m\u001b[43m \u001b[49m\u001b[43mdf\u001b[49m\u001b[43m[\u001b[49m\u001b[43mdf\u001b[49m\u001b[43m[\u001b[49m\u001b[38;5;124;43m'\u001b[39;49m\u001b[38;5;124;43maddress\u001b[39;49m\u001b[38;5;124;43m'\u001b[39;49m\u001b[43m]\u001b[49m\u001b[43m \u001b[49m\u001b[38;5;241;43m==\u001b[39;49m\u001b[43m \u001b[49m\u001b[43maddress\u001b[49m\u001b[43m]\u001b[49m\u001b[43m \u001b[49m\u001b[38;5;28;43;01mfor\u001b[39;49;00m\u001b[43m \u001b[49m\u001b[43maddress\u001b[49m\u001b[43m \u001b[49m\u001b[38;5;129;43;01min\u001b[39;49;00m\u001b[43m \u001b[49m\u001b[43munique_addresses\u001b[49m\u001b[43m}\u001b[49m\n\u001b[0;32m     17\u001b[0m end_time \u001b[38;5;241m=\u001b[39m time\u001b[38;5;241m.\u001b[39mtime()\n\u001b[0;32m     18\u001b[0m process_time \u001b[38;5;241m=\u001b[39m end_time \u001b[38;5;241m-\u001b[39m start_time\n",
      "Cell \u001b[1;32mIn[8], line 16\u001b[0m, in \u001b[0;36m<dictcomp>\u001b[1;34m(.0)\u001b[0m\n\u001b[0;32m     14\u001b[0m start_time \u001b[38;5;241m=\u001b[39m time\u001b[38;5;241m.\u001b[39mtime()\n\u001b[0;32m     15\u001b[0m unique_addresses \u001b[38;5;241m=\u001b[39m df[\u001b[38;5;124m'\u001b[39m\u001b[38;5;124maddress\u001b[39m\u001b[38;5;124m'\u001b[39m]\u001b[38;5;241m.\u001b[39munique()\n\u001b[1;32m---> 16\u001b[0m address_groups \u001b[38;5;241m=\u001b[39m {address: df[\u001b[43mdf\u001b[49m\u001b[43m[\u001b[49m\u001b[38;5;124;43m'\u001b[39;49m\u001b[38;5;124;43maddress\u001b[39;49m\u001b[38;5;124;43m'\u001b[39;49m\u001b[43m]\u001b[49m\u001b[43m \u001b[49m\u001b[38;5;241;43m==\u001b[39;49m\u001b[43m \u001b[49m\u001b[43maddress\u001b[49m] \u001b[38;5;28;01mfor\u001b[39;00m address \u001b[38;5;129;01min\u001b[39;00m unique_addresses}\n\u001b[0;32m     17\u001b[0m end_time \u001b[38;5;241m=\u001b[39m time\u001b[38;5;241m.\u001b[39mtime()\n\u001b[0;32m     18\u001b[0m process_time \u001b[38;5;241m=\u001b[39m end_time \u001b[38;5;241m-\u001b[39m start_time\n",
      "File \u001b[1;32mc:\\Users\\dldud\\AppData\\Local\\Programs\\Python\\Python311\\Lib\\site-packages\\pandas\\core\\ops\\common.py:76\u001b[0m, in \u001b[0;36m_unpack_zerodim_and_defer.<locals>.new_method\u001b[1;34m(self, other)\u001b[0m\n\u001b[0;32m     72\u001b[0m             \u001b[38;5;28;01mreturn\u001b[39;00m \u001b[38;5;28mNotImplemented\u001b[39m\n\u001b[0;32m     74\u001b[0m other \u001b[38;5;241m=\u001b[39m item_from_zerodim(other)\n\u001b[1;32m---> 76\u001b[0m \u001b[38;5;28;01mreturn\u001b[39;00m \u001b[43mmethod\u001b[49m\u001b[43m(\u001b[49m\u001b[38;5;28;43mself\u001b[39;49m\u001b[43m,\u001b[49m\u001b[43m \u001b[49m\u001b[43mother\u001b[49m\u001b[43m)\u001b[49m\n",
      "File \u001b[1;32mc:\\Users\\dldud\\AppData\\Local\\Programs\\Python\\Python311\\Lib\\site-packages\\pandas\\core\\arraylike.py:40\u001b[0m, in \u001b[0;36mOpsMixin.__eq__\u001b[1;34m(self, other)\u001b[0m\n\u001b[0;32m     38\u001b[0m \u001b[38;5;129m@unpack_zerodim_and_defer\u001b[39m(\u001b[38;5;124m\"\u001b[39m\u001b[38;5;124m__eq__\u001b[39m\u001b[38;5;124m\"\u001b[39m)\n\u001b[0;32m     39\u001b[0m \u001b[38;5;28;01mdef\u001b[39;00m \u001b[38;5;21m__eq__\u001b[39m(\u001b[38;5;28mself\u001b[39m, other):\n\u001b[1;32m---> 40\u001b[0m     \u001b[38;5;28;01mreturn\u001b[39;00m \u001b[38;5;28;43mself\u001b[39;49m\u001b[38;5;241;43m.\u001b[39;49m\u001b[43m_cmp_method\u001b[49m\u001b[43m(\u001b[49m\u001b[43mother\u001b[49m\u001b[43m,\u001b[49m\u001b[43m \u001b[49m\u001b[43moperator\u001b[49m\u001b[38;5;241;43m.\u001b[39;49m\u001b[43meq\u001b[49m\u001b[43m)\u001b[49m\n",
      "File \u001b[1;32mc:\\Users\\dldud\\AppData\\Local\\Programs\\Python\\Python311\\Lib\\site-packages\\pandas\\core\\series.py:5799\u001b[0m, in \u001b[0;36mSeries._cmp_method\u001b[1;34m(self, other, op)\u001b[0m\n\u001b[0;32m   5796\u001b[0m lvalues \u001b[38;5;241m=\u001b[39m \u001b[38;5;28mself\u001b[39m\u001b[38;5;241m.\u001b[39m_values\n\u001b[0;32m   5797\u001b[0m rvalues \u001b[38;5;241m=\u001b[39m extract_array(other, extract_numpy\u001b[38;5;241m=\u001b[39m\u001b[38;5;28;01mTrue\u001b[39;00m, extract_range\u001b[38;5;241m=\u001b[39m\u001b[38;5;28;01mTrue\u001b[39;00m)\n\u001b[1;32m-> 5799\u001b[0m res_values \u001b[38;5;241m=\u001b[39m \u001b[43mops\u001b[49m\u001b[38;5;241;43m.\u001b[39;49m\u001b[43mcomparison_op\u001b[49m\u001b[43m(\u001b[49m\u001b[43mlvalues\u001b[49m\u001b[43m,\u001b[49m\u001b[43m \u001b[49m\u001b[43mrvalues\u001b[49m\u001b[43m,\u001b[49m\u001b[43m \u001b[49m\u001b[43mop\u001b[49m\u001b[43m)\u001b[49m\n\u001b[0;32m   5801\u001b[0m \u001b[38;5;28;01mreturn\u001b[39;00m \u001b[38;5;28mself\u001b[39m\u001b[38;5;241m.\u001b[39m_construct_result(res_values, name\u001b[38;5;241m=\u001b[39mres_name)\n",
      "File \u001b[1;32mc:\\Users\\dldud\\AppData\\Local\\Programs\\Python\\Python311\\Lib\\site-packages\\pandas\\core\\ops\\array_ops.py:346\u001b[0m, in \u001b[0;36mcomparison_op\u001b[1;34m(left, right, op)\u001b[0m\n\u001b[0;32m    343\u001b[0m     \u001b[38;5;28;01mreturn\u001b[39;00m invalid_comparison(lvalues, rvalues, op)\n\u001b[0;32m    345\u001b[0m \u001b[38;5;28;01melif\u001b[39;00m lvalues\u001b[38;5;241m.\u001b[39mdtype \u001b[38;5;241m==\u001b[39m \u001b[38;5;28mobject\u001b[39m \u001b[38;5;129;01mor\u001b[39;00m \u001b[38;5;28misinstance\u001b[39m(rvalues, \u001b[38;5;28mstr\u001b[39m):\n\u001b[1;32m--> 346\u001b[0m     res_values \u001b[38;5;241m=\u001b[39m \u001b[43mcomp_method_OBJECT_ARRAY\u001b[49m\u001b[43m(\u001b[49m\u001b[43mop\u001b[49m\u001b[43m,\u001b[49m\u001b[43m \u001b[49m\u001b[43mlvalues\u001b[49m\u001b[43m,\u001b[49m\u001b[43m \u001b[49m\u001b[43mrvalues\u001b[49m\u001b[43m)\u001b[49m\n\u001b[0;32m    348\u001b[0m \u001b[38;5;28;01melse\u001b[39;00m:\n\u001b[0;32m    349\u001b[0m     res_values \u001b[38;5;241m=\u001b[39m _na_arithmetic_op(lvalues, rvalues, op, is_cmp\u001b[38;5;241m=\u001b[39m\u001b[38;5;28;01mTrue\u001b[39;00m)\n",
      "File \u001b[1;32mc:\\Users\\dldud\\AppData\\Local\\Programs\\Python\\Python311\\Lib\\site-packages\\pandas\\core\\ops\\array_ops.py:132\u001b[0m, in \u001b[0;36mcomp_method_OBJECT_ARRAY\u001b[1;34m(op, x, y)\u001b[0m\n\u001b[0;32m    130\u001b[0m \u001b[38;5;28;01melse\u001b[39;00m:\n\u001b[0;32m    131\u001b[0m     result \u001b[38;5;241m=\u001b[39m libops\u001b[38;5;241m.\u001b[39mscalar_compare(x\u001b[38;5;241m.\u001b[39mravel(), y, op)\n\u001b[1;32m--> 132\u001b[0m \u001b[38;5;28;01mreturn\u001b[39;00m \u001b[43mresult\u001b[49m\u001b[38;5;241;43m.\u001b[39;49m\u001b[43mreshape\u001b[49m\u001b[43m(\u001b[49m\u001b[43mx\u001b[49m\u001b[38;5;241;43m.\u001b[39;49m\u001b[43mshape\u001b[49m\u001b[43m)\u001b[49m\n",
      "\u001b[1;31mKeyboardInterrupt\u001b[0m: "
     ]
    }
   ],
   "source": [
    "import pandas as pd\n",
    "import time\n",
    "\n",
    "# CSV 파일 불러오기\n",
    "def load_csv_pandas(filename):\n",
    "    start_time = time.time()\n",
    "    df = pd.read_csv(filename)\n",
    "    end_time = time.time()\n",
    "    load_time = end_time - start_time\n",
    "    return df, load_time\n",
    "\n",
    "# Address 중복 제거 및 분류 작업\n",
    "def unique_addresses_pandas(df):\n",
    "    start_time = time.time()\n",
    "    unique_addresses = df['address'].unique()\n",
    "    address_groups = {address: df[df['address'] == address] for address in unique_addresses}\n",
    "    end_time = time.time()\n",
    "    process_time = end_time - start_time\n",
    "    return address_groups, process_time\n",
    "\n",
    "# 전체 실행 흐름\n",
    "def main_pandas():\n",
    "    total_start_time = time.time()\n",
    "    time_pandas = []\n",
    "\n",
    "    filenames = [\n",
    "        #\"test_data_1000.csv\",\n",
    "        #\"test_data_5000.csv\",\n",
    "        #\"test_data_10000.csv\",\n",
    "        #\"test_data_50000.csv\",\n",
    "        #\"test_data_100000.csv\",\n",
    "        \"test_data_150000.csv\",\n",
    "        \"test_data_200000.csv\",\n",
    "    ]\n",
    "    \n",
    "    for filename in filenames:\n",
    "        df, load_time = load_csv_pandas(filename)\n",
    "        address_groups, process_time = unique_addresses_pandas(df)\n",
    "        \n",
    "        total_time = load_time + process_time\n",
    "        size = int(filename.split('_')[2].split('.')[0])\n",
    "        time_pandas.append([size, total_time])\n",
    "        print(f\"Total time for {filename} using Pandas: {total_time:.4f} seconds\")\n",
    "    \n",
    "    total_end_time = time.time()\n",
    "    total_exec_time = total_end_time - total_start_time\n",
    "    print(f\"Total execution time using Pandas: {total_exec_time:.4f} seconds\")\n",
    "    \n",
    "    # DataFrame 생성\n",
    "    df_time_pandas = pd.DataFrame(time_pandas, columns=['Dataset Size', 'Time (seconds)'])\n",
    "    df_time_pandas.to_csv(\"time_pandas.csv\", index=False)\n",
    "    print(df_time_pandas)\n",
    "\n",
    "if __name__ == \"__main__\":\n",
    "    main_pandas()\n"
   ]
  },
  {
   "cell_type": "code",
   "execution_count": 13,
   "metadata": {},
   "outputs": [
    {
     "data": {
      "image/png": "[encoded data removed]",
      "text/plain": [
       "<Figure size 1000x600 with 1 Axes>"
      ]
     },
     "metadata": {},
     "output_type": "display_data"
    }
   ],
   "source": [
    "import pandas as pd\n",
    "from matplotlib import pyplot as plt\n",
    "\n",
    "def load_csv_pandas(filename):\n",
    "    return pd.read_csv(filename)\n",
    "\n",
    "# 데이터 불러오기\n",
    "spark_time_data = load_csv_pandas(\"time_spark.csv\")\n",
    "pandas_time_data = load_csv_pandas(\"time_pandas.csv\")\n",
    "\n",
    "# 꺾은선 그래프 그리기\n",
    "plt.figure(figsize=(10, 6))\n",
    "\n",
    "# Pandas 시간 데이터\n",
    "plt.plot(pandas_time_data['Dataset Size'], pandas_time_data['Time (seconds)'], label='Pandas', marker='o')\n",
    "\n",
    "# Spark 시간 데이터\n",
    "plt.plot(spark_time_data['Dataset Size'], spark_time_data['Time (seconds)'], label='Spark', marker='o')\n",
    "\n",
    "# 그래프 레이블 설정\n",
    "plt.xlabel('Dataset Size')\n",
    "plt.ylabel('Time (seconds)')\n",
    "plt.title('Pandas vs Spark Execution Time')\n",
    "plt.legend()\n",
    "\n",
    "# 그래프 표시\n",
    "plt.grid(True)\n",
    "plt.show()\n"
   ]
  },
  {
   "cell_type": "code",
   "execution_count": 11,
   "metadata": {},
   "outputs": [
    {
     "name": "stdout",
     "output_type": "stream",
     "text": [
      "(   Dataset Size  Time (seconds)\n",
      "0          1000          0.5816\n",
      "1          5000          5.3866\n",
      "2         10000         17.3161\n",
      "3         50000        277.8150\n",
      "4        100000        843.4168\n",
      "5        150000          0.0000\n",
      "6        200000          0.0000, 0.007959127426147461)\n"
     ]
    }
   ],
   "source": []
  }
 ],
 "metadata": {
  "kernelspec": {
   "display_name": "Python 3",
   "language": "python",
   "name": "python3"
  },
  "language_info": {
   "codemirror_mode": {
    "name": "ipython",
    "version": 3
   },
   "file_extension": ".py",
   "mimetype": "text/x-python",
   "name": "python",
   "nbconvert_exporter": "python",
   "pygments_lexer": "ipython3",
   "version": "3.11.5"
  }
 },
 "nbformat": 4,
 "nbformat_minor": 2
}
