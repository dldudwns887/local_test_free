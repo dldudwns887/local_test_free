{
 "cells": [
  {
   "cell_type": "code",
   "execution_count": null,
   "metadata": {},
   "outputs": [],
   "source": [
    "import matplotlib.pyplot as plt\n",
    "import pandas as pd\n",
    "from matplotlib import rc\n",
    "# 데이터\n",
    "sizes = [30, 20, 25, 25]  # 각 섹션의 크기\n",
    "labels = [\"A\", \"B\", \"C\", \"D\"]  # 레이블\n",
    "colors = [\"gold\", \"lightblue\", \"lightgreen\", \"pink\"]  # 색상\n",
    "\n",
    "# 파이 차트 생성\n",
    "plt.pie(sizes, labels=labels, colors=colors, autopct=\"%1.1f%%\", startangle=90)\n",
    "plt.title(\"파이 차트 예제\")\n",
    "plt.show()"
   ]
  }
 ],
 "metadata": {
  "kernelspec": {
   "display_name": "Python 3",
   "language": "python",
   "name": "python3"
  },
  "language_info": {
   "name": "python",
   "version": "3.11.5"
  }
 },
 "nbformat": 4,
 "nbformat_minor": 2
}
